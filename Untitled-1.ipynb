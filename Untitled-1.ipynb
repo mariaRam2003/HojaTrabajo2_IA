{
 "cells": [
  {
   "cell_type": "markdown",
   "metadata": {},
   "source": [
    "# Task 3 - Preguntas Prácticas"
   ]
  },
  {
   "cell_type": "markdown",
   "metadata": {},
   "source": [
    "Importar librerias necesarias"
   ]
  },
  {
   "cell_type": "code",
   "execution_count": 3,
   "metadata": {},
   "outputs": [],
   "source": [
    "import gym\n",
    "import numpy as np"
   ]
  },
  {
   "cell_type": "markdown",
   "metadata": {},
   "source": [
    "Fijar la semilla para resultados consistentes"
   ]
  },
  {
   "cell_type": "code",
   "execution_count": 7,
   "metadata": {},
   "outputs": [],
   "source": [
    "np.random.seed(42)"
   ]
  },
  {
   "cell_type": "markdown",
   "metadata": {},
   "source": [
    "Definir el entorno FrozenLake"
   ]
  },
  {
   "cell_type": "code",
   "execution_count": 8,
   "metadata": {},
   "outputs": [],
   "source": [
    "env = gym.make(\"FrozenLake-v1\", is_slippery=False, map_name=\"4x4\")"
   ]
  },
  {
   "cell_type": "markdown",
   "metadata": {},
   "source": [
    "Obtener el tamaño del espacio de observación y acción"
   ]
  },
  {
   "cell_type": "code",
   "execution_count": 9,
   "metadata": {},
   "outputs": [],
   "source": [
    "num_states = env.observation_space.n\n",
    "num_actions = env.action_space.n"
   ]
  },
  {
   "cell_type": "markdown",
   "metadata": {},
   "source": [
    "Inicializar la tabla de valores de estado-acción"
   ]
  },
  {
   "cell_type": "code",
   "execution_count": 24,
   "metadata": {},
   "outputs": [
    {
     "name": "stdout",
     "output_type": "stream",
     "text": [
      "[[0. 0. 0. 0.]\n",
      " [0. 0. 0. 0.]\n",
      " [0. 0. 0. 0.]\n",
      " [0. 0. 0. 0.]\n",
      " [0. 0. 0. 0.]\n",
      " [0. 0. 0. 0.]\n",
      " [0. 0. 0. 0.]\n",
      " [0. 0. 0. 0.]\n",
      " [0. 0. 0. 0.]\n",
      " [0. 0. 0. 0.]\n",
      " [0. 0. 0. 0.]\n",
      " [0. 0. 0. 0.]\n",
      " [0. 0. 0. 0.]\n",
      " [0. 0. 0. 0.]\n",
      " [0. 0. 0. 0.]\n",
      " [0. 0. 0. 0.]]\n"
     ]
    }
   ],
   "source": [
    "Q = np.zeros((num_states, num_actions))\n",
    "print(Q)"
   ]
  },
  {
   "cell_type": "markdown",
   "metadata": {},
   "source": [
    "Inicializar la tabla de valores de estado-acción"
   ]
  },
  {
   "cell_type": "code",
   "execution_count": 21,
   "metadata": {},
   "outputs": [],
   "source": [
    "Q = np.zeros((num_states, num_actions))"
   ]
  },
  {
   "cell_type": "markdown",
   "metadata": {},
   "source": [
    "Hiperparámetros"
   ]
  },
  {
   "cell_type": "code",
   "execution_count": 14,
   "metadata": {},
   "outputs": [],
   "source": [
    "gamma = 0.99  # factor de descuento\n",
    "alpha = 0.1   # tasa de aprendizaje\n",
    "num_episodes = 1000"
   ]
  },
  {
   "cell_type": "markdown",
   "metadata": {},
   "source": [
    "Función de selección de acción basada en la política ε-greedy"
   ]
  },
  {
   "cell_type": "code",
   "execution_count": 22,
   "metadata": {},
   "outputs": [],
   "source": [
    "def epsilon_greedy_policy(state, epsilon=0.1):\n",
    "    if np.random.uniform(0, 1) < epsilon:\n",
    "        return env.action_space.sample()  # seleccionar una acción aleatoria\n",
    "    else:\n",
    "        # Asegurarse de que state sea un entero\n",
    "        state = int(state)\n",
    "        # Asegurarse de que el estado esté dentro del rango\n",
    "        valid_state = min(max(state, 0), num_states - 1)\n",
    "        return np.argmax(Q[valid_state, :])  # seleccionar la acción con el valor máximo de Q"
   ]
  },
  {
   "cell_type": "markdown",
   "metadata": {},
   "source": [
    "Entrenamiento del agente"
   ]
  },
  {
   "cell_type": "code",
   "execution_count": 39,
   "metadata": {},
   "outputs": [
    {
     "ename": "TypeError",
     "evalue": "'int' object is not subscriptable",
     "output_type": "error",
     "traceback": [
      "\u001b[1;31m---------------------------------------------------------------------------\u001b[0m",
      "\u001b[1;31mTypeError\u001b[0m                                 Traceback (most recent call last)",
      "Cell \u001b[1;32mIn[39], line 13\u001b[0m\n\u001b[0;32m     10\u001b[0m td_target \u001b[38;5;241m=\u001b[39m reward \u001b[38;5;241m+\u001b[39m gamma \u001b[38;5;241m*\u001b[39m np\u001b[38;5;241m.\u001b[39mmax(Q[next_state, :])\n\u001b[0;32m     12\u001b[0m \u001b[38;5;66;03m# Convertir state a un número entero\u001b[39;00m\n\u001b[1;32m---> 13\u001b[0m next_state_int \u001b[38;5;241m=\u001b[39m \u001b[43mnext_state\u001b[49m\u001b[43m[\u001b[49m\u001b[38;5;241;43m0\u001b[39;49m\u001b[43m]\u001b[49m\n\u001b[0;32m     14\u001b[0m td_error \u001b[38;5;241m=\u001b[39m td_target \u001b[38;5;241m-\u001b[39m Q[state_int, action]\n\u001b[0;32m     15\u001b[0m Q[state_int, action] \u001b[38;5;241m+\u001b[39m\u001b[38;5;241m=\u001b[39m alpha \u001b[38;5;241m*\u001b[39m td_error\n",
      "\u001b[1;31mTypeError\u001b[0m: 'int' object is not subscriptable"
     ]
    }
   ],
   "source": [
    "# Entrenamiento del agente\n",
    "for episode in range(num_episodes):\n",
    "    state = env.reset()  # Obtener el estado\n",
    "    state_int = state[0]  # Obtener el número entero del estado\n",
    "    done = False\n",
    "\n",
    "    while not done:\n",
    "        action = epsilon_greedy_policy(state_int)\n",
    "        next_state, reward, done, _, _ = env.step(action)\n",
    "        td_target = reward + gamma * np.max(Q[next_state, :])\n",
    "\n",
    "        # Convertir state a un número entero\n",
    "        next_state_int = next_state[0]\n",
    "        td_error = td_target - Q[state_int, action]\n",
    "        Q[state_int, action] += alpha * td_error\n",
    "\n",
    "        state_int = next_state_int\n"
   ]
  },
  {
   "cell_type": "code",
   "execution_count": 38,
   "metadata": {},
   "outputs": [
    {
     "ename": "TypeError",
     "evalue": "'int' object is not subscriptable",
     "output_type": "error",
     "traceback": [
      "\u001b[1;31m---------------------------------------------------------------------------\u001b[0m",
      "\u001b[1;31mTypeError\u001b[0m                                 Traceback (most recent call last)",
      "Cell \u001b[1;32mIn[38], line 12\u001b[0m\n\u001b[0;32m     10\u001b[0m next_state, reward, done, _, _ \u001b[38;5;241m=\u001b[39m env\u001b[38;5;241m.\u001b[39mstep(action)\n\u001b[0;32m     11\u001b[0m total_rewards \u001b[38;5;241m+\u001b[39m\u001b[38;5;241m=\u001b[39m reward\n\u001b[1;32m---> 12\u001b[0m statstatee_int \u001b[38;5;241m=\u001b[39m \u001b[43mnext_state\u001b[49m\u001b[43m[\u001b[49m\u001b[38;5;241;43m0\u001b[39;49m\u001b[43m]\u001b[49m\n",
      "\u001b[1;31mTypeError\u001b[0m: 'int' object is not subscriptable"
     ]
    }
   ],
   "source": [
    "# Evaluar la política óptima\n",
    "total_rewards = 0\n",
    "num_episodes_eval = 100\n",
    "for _ in range(num_episodes_eval):\n",
    "    state = env.reset()[0] # Obtener el número entero del estado\n",
    "    done = False\n",
    "\n",
    "    while not done:\n",
    "        action = np.argmax(Q[state, :])\n",
    "        next_state, reward, done, _, _ = env.step(action)\n",
    "        total_rewards += reward\n",
    "        statstatee_int = next_state[0]\n"
   ]
  }
 ],
 "metadata": {
  "kernelspec": {
   "display_name": "Python 3",
   "language": "python",
   "name": "python3"
  },
  "language_info": {
   "codemirror_mode": {
    "name": "ipython",
    "version": 3
   },
   "file_extension": ".py",
   "mimetype": "text/x-python",
   "name": "python",
   "nbconvert_exporter": "python",
   "pygments_lexer": "ipython3",
   "version": "3.11.4"
  }
 },
 "nbformat": 4,
 "nbformat_minor": 2
}
